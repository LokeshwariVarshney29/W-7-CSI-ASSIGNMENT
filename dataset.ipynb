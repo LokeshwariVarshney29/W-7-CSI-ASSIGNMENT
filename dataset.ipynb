{
 "cells": [
  {
   "cell_type": "code",
   "execution_count": 1,
   "id": "13b77da9",
   "metadata": {},
   "outputs": [
    {
     "name": "stdout",
     "output_type": "stream",
     "text": [
      "Defaulting to user installation because normal site-packages is not writeable\n",
      "Collecting faker\n",
      "  Downloading faker-37.4.0-py3-none-any.whl.metadata (15 kB)\n",
      "Collecting tzdata (from faker)\n",
      "  Downloading tzdata-2025.2-py2.py3-none-any.whl.metadata (1.4 kB)\n",
      "Downloading faker-37.4.0-py3-none-any.whl (1.9 MB)\n",
      "   ---------------------------------------- 1.9/1.9 MB 1.8 MB/s eta 0:00:00\n",
      "Downloading tzdata-2025.2-py2.py3-none-any.whl (347 kB)\n",
      "Installing collected packages: tzdata, faker\n",
      "Successfully installed faker-37.4.0 tzdata-2025.2\n",
      "Note: you may need to restart the kernel to use updated packages.\n"
     ]
    },
    {
     "name": "stderr",
     "output_type": "stream",
     "text": [
      "'DOSKEY' is not recognized as an internal or external command,\n",
      "operable program or batch file.\n",
      "WARNING: Ignoring invalid distribution -ensorflow-intel (c:\\users\\91838\\appdata\\roaming\\python\\python39\\site-packages)\n",
      "WARNING: Ignoring invalid distribution -rotobuf (c:\\users\\91838\\appdata\\roaming\\python\\python39\\site-packages)\n",
      "WARNING: Ignoring invalid distribution -ensorflow-intel (c:\\users\\91838\\appdata\\roaming\\python\\python39\\site-packages)\n",
      "WARNING: Ignoring invalid distribution -rotobuf (c:\\users\\91838\\appdata\\roaming\\python\\python39\\site-packages)\n",
      "  WARNING: The script faker.exe is installed in 'C:\\Users\\91838\\AppData\\Roaming\\Python\\Python39\\Scripts' which is not on PATH.\n",
      "  Consider adding this directory to PATH or, if you prefer to suppress this warning, use --no-warn-script-location.\n",
      "WARNING: Ignoring invalid distribution -ensorflow-intel (c:\\users\\91838\\appdata\\roaming\\python\\python39\\site-packages)\n",
      "WARNING: Ignoring invalid distribution -rotobuf (c:\\users\\91838\\appdata\\roaming\\python\\python39\\site-packages)\n",
      "\n",
      "[notice] A new release of pip is available: 25.0.1 -> 25.1.1\n",
      "[notice] To update, run: python.exe -m pip install --upgrade pip\n"
     ]
    }
   ],
   "source": [
    "pip install faker"
   ]
  },
  {
   "cell_type": "code",
   "execution_count": 3,
   "id": "ccd8438a",
   "metadata": {},
   "outputs": [],
   "source": [
    "from faker import Faker\n",
    "import numpy as np\n",
    "import pandas as pd\n",
    "import os\n",
    "from datetime import datetime"
   ]
  },
  {
   "cell_type": "code",
   "execution_count": 4,
   "id": "1b5ce5e9",
   "metadata": {},
   "outputs": [],
   "source": [
    "fake = Faker()\n",
    "os.makedirs(\"raw/CUST_MSTR\", exist_ok = True)\n",
    "os.makedirs(\"raw/master_child_export\", exist_ok = True)\n",
    "os.makedirs(\"raw/H_ECOM_ORDER\", exist_ok = True)"
   ]
  },
  {
   "cell_type": "code",
   "execution_count": 5,
   "id": "d15885eb",
   "metadata": {},
   "outputs": [],
   "source": [
    "for date_str in [\"20191112\", \"20191113\"]:\n",
    "    cust_data = {\n",
    "        \"customer_id\": range(1000, 1100),\n",
    "        \"first_name\": [fake.first_name() for _ in range(100)],\n",
    "        \"last_name\": [fake.last_name() for _ in range(100)],\n",
    "        \"email\": [fake.email() for _ in range(100)],\n",
    "        \"phone\": [fake.phone_number() for _ in range(100)],\n",
    "        \"city\": [fake.city() for _ in range(100)]\n",
    "    }\n",
    "    df = pd.DataFrame(cust_data)\n",
    "    df.to_csv(f\"raw/CUST_MSTR/CUST_MSTR_{date_str}.csv\", index=False)"
   ]
  },
  {
   "cell_type": "code",
   "execution_count": 6,
   "id": "c6481cb7",
   "metadata": {},
   "outputs": [],
   "source": [
    "for date_str in [\"20191112\", \"20191113\"]:\n",
    "    master_child_data = {\n",
    "        \"product_id\": range(200, 300),\n",
    "        \"product_name\": [fake.word().capitalize() for _ in range(100)],\n",
    "        \"category_id\": np.random.randint(1, 10, 100),\n",
    "        \"category_name\": [fake.word().capitalize() for _ in range(100)],\n",
    "        \"price\": np.random.uniform(10, 500, 100).round(2)\n",
    "    }\n",
    "    df = pd.DataFrame(master_child_data)\n",
    "    df.to_csv(f\"raw/master_child_export/master_child_export-{date_str}.csv\", index=False)"
   ]
  },
  {
   "cell_type": "code",
   "execution_count": 7,
   "id": "8c9a1eda",
   "metadata": {},
   "outputs": [],
   "source": [
    "order_data = {\n",
    "    \"order_id\": range(5000, 5100),\n",
    "    \"customer_id\": np.random.randint(1000, 1100, 100),\n",
    "    \"product_id\": np.random.randint(200, 300, 100),\n",
    "    \"order_date\": [fake.date_between(start_date='-3y', end_date='today') for _ in range(100)],\n",
    "    \"amount\": np.random.uniform(100, 1000, 100).round(2)\n",
    "}\n",
    "df = pd.DataFrame(order_data)\n",
    "df.to_csv(\"raw/H_ECOM_ORDER/H_ECOM_ORDER.csv\", index=False)"
   ]
  },
  {
   "cell_type": "code",
   "execution_count": null,
   "id": "446c471c",
   "metadata": {},
   "outputs": [],
   "source": []
  }
 ],
 "metadata": {
  "kernelspec": {
   "display_name": "Python 3 (ipykernel)",
   "language": "python",
   "name": "python3"
  },
  "language_info": {
   "codemirror_mode": {
    "name": "ipython",
    "version": 3
   },
   "file_extension": ".py",
   "mimetype": "text/x-python",
   "name": "python",
   "nbconvert_exporter": "python",
   "pygments_lexer": "ipython3",
   "version": "3.9.13"
  },
  "latex_envs": {
   "LaTeX_envs_menu_present": true,
   "autoclose": false,
   "autocomplete": true,
   "bibliofile": "biblio.bib",
   "cite_by": "apalike",
   "current_citInitial": 1,
   "eqLabelWithNumbers": true,
   "eqNumInitial": 1,
   "hotkeys": {
    "equation": "Ctrl-E",
    "itemize": "Ctrl-I"
   },
   "labels_anchors": false,
   "latex_user_defs": false,
   "report_style_numbering": false,
   "user_envs_cfg": false
  }
 },
 "nbformat": 4,
 "nbformat_minor": 5
}
